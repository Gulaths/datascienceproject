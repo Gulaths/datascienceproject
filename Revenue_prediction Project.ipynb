{
 "cells": [
  {
   "cell_type": "code",
   "execution_count": 59,
   "id": "2d719514",
   "metadata": {},
   "outputs": [],
   "source": [
    "import pandas as pd\n",
    "import numpy as np\n",
    "import matplotlib.pyplot as plt\n",
    "import seaborn as sns \n",
    "import warnings\n",
    "warnings.filterwarnings('ignore')"
   ]
  },
  {
   "cell_type": "code",
   "execution_count": 60,
   "id": "44eea4fb",
   "metadata": {},
   "outputs": [],
   "source": [
    "data=pd.read_csv(r\"Revenue_prediction.csv\",na_values='?',skipinitialspace = True)\n"
   ]
  },
  {
   "cell_type": "code",
   "execution_count": 61,
   "id": "f7ff6e0f",
   "metadata": {},
   "outputs": [
    {
     "data": {
      "text/html": [
       "<div>\n",
       "<style scoped>\n",
       "    .dataframe tbody tr th:only-of-type {\n",
       "        vertical-align: middle;\n",
       "    }\n",
       "\n",
       "    .dataframe tbody tr th {\n",
       "        vertical-align: top;\n",
       "    }\n",
       "\n",
       "    .dataframe thead th {\n",
       "        text-align: right;\n",
       "    }\n",
       "</style>\n",
       "<table border=\"1\" class=\"dataframe\">\n",
       "  <thead>\n",
       "    <tr style=\"text-align: right;\">\n",
       "      <th></th>\n",
       "      <th>Id</th>\n",
       "      <th>Name</th>\n",
       "      <th>Franchise</th>\n",
       "      <th>Category</th>\n",
       "      <th>City</th>\n",
       "      <th>No_Of_Item</th>\n",
       "      <th>Order_Placed</th>\n",
       "      <th>Revenue</th>\n",
       "    </tr>\n",
       "  </thead>\n",
       "  <tbody>\n",
       "    <tr>\n",
       "      <th>0</th>\n",
       "      <td>101</td>\n",
       "      <td>HungryHowie'sPizza</td>\n",
       "      <td>Yes</td>\n",
       "      <td>Mexican</td>\n",
       "      <td>Bengaluru</td>\n",
       "      <td>55</td>\n",
       "      <td>5.5</td>\n",
       "      <td>5953753</td>\n",
       "    </tr>\n",
       "    <tr>\n",
       "      <th>1</th>\n",
       "      <td>102</td>\n",
       "      <td>CharleysPhillySteaks</td>\n",
       "      <td>No</td>\n",
       "      <td>Varied Menu</td>\n",
       "      <td>Gurugram</td>\n",
       "      <td>72</td>\n",
       "      <td>6.8</td>\n",
       "      <td>7223131</td>\n",
       "    </tr>\n",
       "    <tr>\n",
       "      <th>2</th>\n",
       "      <td>103</td>\n",
       "      <td>Chuy's</td>\n",
       "      <td>Yes</td>\n",
       "      <td>Chicken</td>\n",
       "      <td>Pune</td>\n",
       "      <td>25</td>\n",
       "      <td>1.9</td>\n",
       "      <td>2555379</td>\n",
       "    </tr>\n",
       "    <tr>\n",
       "      <th>3</th>\n",
       "      <td>104</td>\n",
       "      <td>O'Charley's</td>\n",
       "      <td>Yes</td>\n",
       "      <td>Italian/Pizza</td>\n",
       "      <td>Mumbai</td>\n",
       "      <td>18</td>\n",
       "      <td>2.5</td>\n",
       "      <td>2175511</td>\n",
       "    </tr>\n",
       "    <tr>\n",
       "      <th>4</th>\n",
       "      <td>105</td>\n",
       "      <td>PolloTropical</td>\n",
       "      <td>Yes</td>\n",
       "      <td>Pizza</td>\n",
       "      <td>Noida</td>\n",
       "      <td>48</td>\n",
       "      <td>4.2</td>\n",
       "      <td>4816715</td>\n",
       "    </tr>\n",
       "  </tbody>\n",
       "</table>\n",
       "</div>"
      ],
      "text/plain": [
       "    Id                  Name Franchise       Category       City  No_Of_Item  \\\n",
       "0  101    HungryHowie'sPizza       Yes        Mexican  Bengaluru          55   \n",
       "1  102  CharleysPhillySteaks        No    Varied Menu   Gurugram          72   \n",
       "2  103                Chuy's       Yes        Chicken       Pune          25   \n",
       "3  104           O'Charley's       Yes  Italian/Pizza     Mumbai          18   \n",
       "4  105         PolloTropical       Yes          Pizza      Noida          48   \n",
       "\n",
       "   Order_Placed  Revenue  \n",
       "0           5.5  5953753  \n",
       "1           6.8  7223131  \n",
       "2           1.9  2555379  \n",
       "3           2.5  2175511  \n",
       "4           4.2  4816715  "
      ]
     },
     "execution_count": 61,
     "metadata": {},
     "output_type": "execute_result"
    }
   ],
   "source": [
    "data.head()"
   ]
  },
  {
   "cell_type": "code",
   "execution_count": 62,
   "id": "0457405c",
   "metadata": {},
   "outputs": [
    {
     "data": {
      "text/plain": [
       "(100, 8)"
      ]
     },
     "execution_count": 62,
     "metadata": {},
     "output_type": "execute_result"
    }
   ],
   "source": [
    "data.shape"
   ]
  },
  {
   "cell_type": "code",
   "execution_count": 63,
   "id": "03c86597",
   "metadata": {},
   "outputs": [
    {
     "name": "stdout",
     "output_type": "stream",
     "text": [
      "<class 'pandas.core.frame.DataFrame'>\n",
      "RangeIndex: 100 entries, 0 to 99\n",
      "Data columns (total 8 columns):\n",
      " #   Column        Non-Null Count  Dtype  \n",
      "---  ------        --------------  -----  \n",
      " 0   Id            100 non-null    int64  \n",
      " 1   Name          100 non-null    object \n",
      " 2   Franchise     100 non-null    object \n",
      " 3   Category      100 non-null    object \n",
      " 4   City          100 non-null    object \n",
      " 5   No_Of_Item    100 non-null    int64  \n",
      " 6   Order_Placed  100 non-null    float64\n",
      " 7   Revenue       100 non-null    int64  \n",
      "dtypes: float64(1), int64(3), object(4)\n",
      "memory usage: 6.4+ KB\n"
     ]
    }
   ],
   "source": [
    "data.info()"
   ]
  },
  {
   "cell_type": "code",
   "execution_count": 64,
   "id": "9500740c",
   "metadata": {},
   "outputs": [
    {
     "data": {
      "text/plain": [
       "Id              0\n",
       "Name            0\n",
       "Franchise       0\n",
       "Category        0\n",
       "City            0\n",
       "No_Of_Item      0\n",
       "Order_Placed    0\n",
       "Revenue         0\n",
       "dtype: int64"
      ]
     },
     "execution_count": 64,
     "metadata": {},
     "output_type": "execute_result"
    }
   ],
   "source": [
    "data.isnull().sum()"
   ]
  },
  {
   "cell_type": "code",
   "execution_count": 65,
   "id": "c3ce1b2f",
   "metadata": {},
   "outputs": [
    {
     "name": "stdout",
     "output_type": "stream",
     "text": [
      "<class 'pandas.core.frame.DataFrame'>\n",
      "RangeIndex: 100 entries, 0 to 99\n",
      "Data columns (total 8 columns):\n",
      " #   Column        Non-Null Count  Dtype  \n",
      "---  ------        --------------  -----  \n",
      " 0   Id            100 non-null    int64  \n",
      " 1   Name          100 non-null    int32  \n",
      " 2   Franchise     100 non-null    int32  \n",
      " 3   Category      100 non-null    int32  \n",
      " 4   City          100 non-null    int32  \n",
      " 5   No_Of_Item    100 non-null    int64  \n",
      " 6   Order_Placed  100 non-null    float64\n",
      " 7   Revenue       100 non-null    int64  \n",
      "dtypes: float64(1), int32(4), int64(3)\n",
      "memory usage: 4.8 KB\n"
     ]
    }
   ],
   "source": [
    "from sklearn.preprocessing import LabelEncoder\n",
    "le=LabelEncoder()\n",
    "data[\"Name\"]=le.fit_transform(data[\"Name\"])\n",
    "data[\"Franchise\"]=le.fit_transform(data[\"Franchise\"])\n",
    "data[\"Category\"]=le.fit_transform(data[\"Category\"])\n",
    "data[\"City\"]=le.fit_transform(data[\"City\"])\n",
    "data.info()"
   ]
  },
  {
   "cell_type": "code",
   "execution_count": 66,
   "id": "98a9d82b",
   "metadata": {},
   "outputs": [
    {
     "data": {
      "text/html": [
       "<div>\n",
       "<style scoped>\n",
       "    .dataframe tbody tr th:only-of-type {\n",
       "        vertical-align: middle;\n",
       "    }\n",
       "\n",
       "    .dataframe tbody tr th {\n",
       "        vertical-align: top;\n",
       "    }\n",
       "\n",
       "    .dataframe thead th {\n",
       "        text-align: right;\n",
       "    }\n",
       "</style>\n",
       "<table border=\"1\" class=\"dataframe\">\n",
       "  <thead>\n",
       "    <tr style=\"text-align: right;\">\n",
       "      <th></th>\n",
       "      <th>Id</th>\n",
       "      <th>Name</th>\n",
       "      <th>Franchise</th>\n",
       "      <th>Category</th>\n",
       "      <th>City</th>\n",
       "      <th>No_Of_Item</th>\n",
       "      <th>Order_Placed</th>\n",
       "      <th>Revenue</th>\n",
       "    </tr>\n",
       "  </thead>\n",
       "  <tbody>\n",
       "    <tr>\n",
       "      <th>0</th>\n",
       "      <td>101</td>\n",
       "      <td>40</td>\n",
       "      <td>1</td>\n",
       "      <td>12</td>\n",
       "      <td>0</td>\n",
       "      <td>55</td>\n",
       "      <td>5.5</td>\n",
       "      <td>5953753</td>\n",
       "    </tr>\n",
       "    <tr>\n",
       "      <th>1</th>\n",
       "      <td>102</td>\n",
       "      <td>14</td>\n",
       "      <td>0</td>\n",
       "      <td>19</td>\n",
       "      <td>1</td>\n",
       "      <td>72</td>\n",
       "      <td>6.8</td>\n",
       "      <td>7223131</td>\n",
       "    </tr>\n",
       "    <tr>\n",
       "      <th>2</th>\n",
       "      <td>103</td>\n",
       "      <td>16</td>\n",
       "      <td>1</td>\n",
       "      <td>5</td>\n",
       "      <td>4</td>\n",
       "      <td>25</td>\n",
       "      <td>1.9</td>\n",
       "      <td>2555379</td>\n",
       "    </tr>\n",
       "    <tr>\n",
       "      <th>3</th>\n",
       "      <td>104</td>\n",
       "      <td>60</td>\n",
       "      <td>1</td>\n",
       "      <td>11</td>\n",
       "      <td>2</td>\n",
       "      <td>18</td>\n",
       "      <td>2.5</td>\n",
       "      <td>2175511</td>\n",
       "    </tr>\n",
       "    <tr>\n",
       "      <th>4</th>\n",
       "      <td>105</td>\n",
       "      <td>68</td>\n",
       "      <td>1</td>\n",
       "      <td>13</td>\n",
       "      <td>3</td>\n",
       "      <td>48</td>\n",
       "      <td>4.2</td>\n",
       "      <td>4816715</td>\n",
       "    </tr>\n",
       "  </tbody>\n",
       "</table>\n",
       "</div>"
      ],
      "text/plain": [
       "    Id  Name  Franchise  Category  City  No_Of_Item  Order_Placed  Revenue\n",
       "0  101    40          1        12     0          55           5.5  5953753\n",
       "1  102    14          0        19     1          72           6.8  7223131\n",
       "2  103    16          1         5     4          25           1.9  2555379\n",
       "3  104    60          1        11     2          18           2.5  2175511\n",
       "4  105    68          1        13     3          48           4.2  4816715"
      ]
     },
     "execution_count": 66,
     "metadata": {},
     "output_type": "execute_result"
    }
   ],
   "source": [
    "data.head()"
   ]
  },
  {
   "cell_type": "code",
   "execution_count": 67,
   "id": "6148422b",
   "metadata": {},
   "outputs": [
    {
     "data": {
      "image/png": "[encoded data removed]",
      "text/plain": [
       "<Figure size 720x360 with 2 Axes>"
      ]
     },
     "metadata": {
      "needs_background": "light"
     },
     "output_type": "display_data"
    }
   ],
   "source": [
    "plt.figure(figsize=(10,5))\n",
    "sns.heatmap(data.corr(),annot=True,cmap=\"coolwarm\")\n",
    "plt.show()"
   ]
  },
  {
   "cell_type": "code",
   "execution_count": 68,
   "id": "ae0caa09",
   "metadata": {},
   "outputs": [
    {
     "name": "stdout",
     "output_type": "stream",
     "text": [
      "        feature         VIF\n",
      "0            Id    9.476687\n",
      "1          Name    4.358419\n",
      "2     Franchise    2.167583\n",
      "3      Category    5.234237\n",
      "4          City    2.044211\n",
      "5    No_Of_Item  113.558852\n",
      "6  Order_Placed   98.322943\n"
     ]
    }
   ],
   "source": [
    "#Feature selection\n",
    "from statsmodels.stats.outliers_influence import variance_inflation_factor\n",
    "col_list=[]\n",
    "for col in data.columns:\n",
    "    if ((data[col].dtype !='object') & (col !='Revenue')):\n",
    "         col_list.append(col)\n",
    "    \n",
    "x=data[col_list]\n",
    "vif_data=pd.DataFrame()\n",
    "vif_data[\"feature\"]=x.columns\n",
    "vif_data[\"VIF\"]=[variance_inflation_factor(x.values,i)\n",
    "                 for i in range(len(x.columns))]\n",
    "print(vif_data)"
   ]
  },
  {
   "cell_type": "code",
   "execution_count": 69,
   "id": "4be86e6a",
   "metadata": {},
   "outputs": [
    {
     "name": "stdout",
     "output_type": "stream",
     "text": [
      "[6537412.85243193 5597765.89858887 3807350.25023917 4159542.53260737\n",
      " 4413799.9457745  3759089.44509529 3966946.93586252 3369165.15981887\n",
      " 3987178.40305926 6574848.19089853 5583361.24360599 3154401.24660468\n",
      " 2761390.9924968  2118670.29495647 3442792.69086833 4639659.50428122\n",
      " 5134088.2298328  1447153.26533922 1710549.85841516 2210063.69011158\n",
      " 7459296.16854557 1962702.76283745 1694533.72617774 5877662.3544335\n",
      " 3035773.11614593 3377901.87845018 7756789.48782092 7110407.20698586\n",
      " 5311270.96528226 2651868.27888059]\n"
     ]
    }
   ],
   "source": [
    "#Linear regression\n",
    "X=data.drop(columns=['Revenue'])\n",
    "y=data['Revenue']\n",
    "from sklearn.model_selection import train_test_split\n",
    "x_train,x_test,y_train,y_test=train_test_split(X,y,test_size=0.30,random_state=42)\n",
    "from sklearn.preprocessing import StandardScaler\n",
    "sc = StandardScaler()\n",
    "x_train=sc.fit_transform(x_train)\n",
    "x_test=sc.transform(x_test)\n",
    "from sklearn.linear_model import LinearRegression\n",
    "lr=LinearRegression()\n",
    "lr.fit(x_train,y_train)\n",
    "y_pred=lr.predict(x_test)\n",
    "print(y_pred)"
   ]
  },
  {
   "cell_type": "code",
   "execution_count": 70,
   "id": "ca8823ce",
   "metadata": {},
   "outputs": [
    {
     "data": {
      "text/plain": [
       "560088.2500970154"
      ]
     },
     "execution_count": 70,
     "metadata": {},
     "output_type": "execute_result"
    }
   ],
   "source": [
    "from sklearn.metrics import r2_score\n",
    "r2_score(y_test,y_pred)\n",
    "from sklearn import metrics\n",
    "mean_abs_error=metrics.mean_absolute_error(y_test,y_pred)\n",
    "mean_abs_error\n",
    "from sklearn.metrics import mean_absolute_percentage_error\n",
    "mean_absolute_percentage_error(y_test,y_pred)\n",
    "mean_sq_error=metrics.mean_squared_error(y_test,y_pred)\n",
    "mean_sq_error\n",
    "root_mean_sq_error=np.sqrt(metrics.mean_squared_error(y_test,y_pred))\n",
    "root_mean_sq_error"
   ]
  },
  {
   "cell_type": "code",
   "execution_count": 71,
   "id": "4b1345b5",
   "metadata": {},
   "outputs": [
    {
     "data": {
      "text/plain": [
       "<matplotlib.legend.Legend at 0x1b262931df0>"
      ]
     },
     "execution_count": 71,
     "metadata": {},
     "output_type": "execute_result"
    },
    {
     "data": {
      "image/png": "[encoded data removed]",
      "text/plain": [
       "<Figure size 432x288 with 1 Axes>"
      ]
     },
     "metadata": {
      "needs_background": "light"
     },
     "output_type": "display_data"
    }
   ],
   "source": [
    "sns.distplot(y_test,label=\"Actual\")\n",
    "sns.distplot(y_pred,label=\"Predicted\")\n",
    "plt.legend()"
   ]
  },
  {
   "cell_type": "code",
   "execution_count": 72,
   "id": "208898bf",
   "metadata": {},
   "outputs": [
    {
     "data": {
      "text/plain": [
       "739286.0651800493"
      ]
     },
     "execution_count": 72,
     "metadata": {},
     "output_type": "execute_result"
    }
   ],
   "source": [
    "#Decision tree model\n",
    "from sklearn.tree import DecisionTreeRegressor\n",
    "dt= DecisionTreeRegressor()\n",
    "dt.fit(x_train,y_train)\n",
    "y_pred=dt.predict(x_test)\n",
    "from sklearn.metrics import r2_score\n",
    "r2_score(y_test,y_pred)\n",
    "from sklearn import metrics\n",
    "mean_abs_error=metrics.mean_absolute_error(y_test,y_pred)\n",
    "mean_abs_error\n",
    "from sklearn.metrics import mean_absolute_percentage_error\n",
    "mean_absolute_percentage_error(y_test,y_pred)\n",
    "mean_sq_error=metrics.mean_squared_error(y_test,y_pred)\n",
    "mean_sq_error\n",
    "root_mean_sq_error=np.sqrt(metrics.mean_squared_error(y_test,y_pred))\n",
    "root_mean_sq_error"
   ]
  },
  {
   "cell_type": "code",
   "execution_count": 73,
   "id": "790732e2",
   "metadata": {},
   "outputs": [
    {
     "data": {
      "text/plain": [
       "631626.4404544831"
      ]
     },
     "execution_count": 73,
     "metadata": {},
     "output_type": "execute_result"
    }
   ],
   "source": [
    "from sklearn.ensemble import RandomForestRegressor\n",
    "rfr= RandomForestRegressor()\n",
    "rfr.fit(x_train,y_train)\n",
    "y_pred=rfr.predict(x_test)\n",
    "from sklearn.metrics import r2_score\n",
    "r2_score(y_test,y_pred)\n",
    "from sklearn import metrics\n",
    "mean_abs_error=metrics.mean_absolute_error(y_test,y_pred)\n",
    "mean_abs_error\n",
    "from sklearn.metrics import mean_absolute_percentage_error\n",
    "mean_absolute_percentage_error(y_test,y_pred)\n",
    "mean_sq_error=metrics.mean_squared_error(y_test,y_pred)\n",
    "mean_sq_error\n",
    "root_mean_sq_error=np.sqrt(metrics.mean_squared_error(y_test,y_pred))\n",
    "root_mean_sq_error"
   ]
  },
  {
   "cell_type": "code",
   "execution_count": null,
   "id": "f992e925",
   "metadata": {},
   "outputs": [],
   "source": []
  }
 ],
 "metadata": {
  "kernelspec": {
   "display_name": "Python 3 (ipykernel)",
   "language": "python",
   "name": "python3"
  },
  "language_info": {
   "codemirror_mode": {
    "name": "ipython",
    "version": 3
   },
   "file_extension": ".py",
   "mimetype": "text/x-python",
   "name": "python",
   "nbconvert_exporter": "python",
   "pygments_lexer": "ipython3",
   "version": "3.9.12"
  }
 },
 "nbformat": 4,
 "nbformat_minor": 5
}
